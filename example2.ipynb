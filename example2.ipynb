{
 "cells": [
  {
   "cell_type": "markdown",
   "metadata": {},
   "source": [
    "# Question 1"
   ]
  },
  {
   "cell_type": "markdown",
   "metadata": {},
   "source": [
    "1) Create a new IPython Notebook, and use it to answer the following questions. \n",
    "Your file should be named in the following format:\n",
    "lastname_firstname_hw#\n",
    "For example, John Smith would name the file: smith_john_hw#.\n",
    "*You will lose 5 points if your file is named with a different convention."
   ]
  },
  {
   "cell_type": "markdown",
   "metadata": {},
   "source": [
    "# Question 2"
   ]
  },
  {
   "cell_type": "markdown",
   "metadata": {},
   "source": [
    "2) You must use Selenium to obtain ALL the quotes of the following website:\n",
    "\thttp://quotes.toscrape.com/js/ \n",
    "\t*You MUST use selenium.  Using a different library will result in points deduction.\n",
    "\t*You MUST obtain all the quotes.  Not just those in the first page.\n",
    "3) For each quote you need to obtain the following:\n",
    "\ta. The text of the quote.  So, for the first quote that would be: “The world as we have created it is a process of our thinking. It cannot be changed without changing our thinking.”\n",
    "\tb. The author’s name. So for the first quote it would be: “Albert Einstein”\n",
    "\tc. The tags associated with each quote.  To separate the tags, use a pipe (|). So for the first quote that would be “change|deep-thoughts|thinking|world”\n",
    "\n",
    "4) You are required to create an output file that is of type (CSV).  You will be deducted points for any other output type. The output should have 3 columns:\n",
    "a. Column 1:  Author\n",
    "b. Column 2: Quote\n",
    "c. Column 3: Tags.  \n",
    "Here is an example of output of just the first quote:\n",
    " \n",
    "\n",
    "Make sure to take note of the following potential issues:\n",
    "*You must have only three columns. They must be in the order given above.\n",
    "*You must have headers, as shown in the sample above.\n",
    "*You must obtain all the quotes. Not just the ones on the first page.\n",
    "*You must submit an ipynb notebook and a csv file.  \n"
   ]
  },
  {
   "cell_type": "code",
   "execution_count": 1,
   "metadata": {},
   "outputs": [],
   "source": [
    "from bs4 import BeautifulSoup as bs\n",
    "from selenium import webdriver\n",
    "from selenium.webdriver.chrome.options import Options\n",
    "import pandas as pd\n",
    "chrome_options = Options()\n",
    "chrome_options.add_argument('--headless')\n",
    "chrome_options.add_argument('--no-sandbox')\n",
    "chrome_options.add_argument('--disable-dev-shm-usage')\n",
    "driver = webdriver.Chrome(options = chrome_options)"
   ]
  },
  {
   "cell_type": "code",
   "execution_count": 2,
   "metadata": {},
   "outputs": [],
   "source": [
    "tags = []\n",
    "quotes = []\n",
    "authors = []"
   ]
  },
  {
   "cell_type": "code",
   "execution_count": 3,
   "metadata": {},
   "outputs": [],
   "source": [
    "url = 'http://quotes.toscrape.com/js/'\n",
    "\n",
    "last_page = False      \n",
    "while last_page == False:    \n",
    "    \n",
    "    \n",
    "    driver = webdriver.Chrome(options = chrome_options)\n",
    "    driver.get(url) # Start the browser and open 'url'\n",
    "    assert 'Quotes' in driver.title # Wait for the page to load, dont extrat untill whole page is loaded\n",
    "    html = driver.page_source # Get the html of the page\n",
    "    driver.quit() # Close the browser\n",
    "\n",
    "    soup = bs(html, 'html.parser')\n",
    "    infotable = soup.find_all(\"div\", class_ = \"quote\")\n",
    "\n",
    "    for i in range(0,len(infotable)):\n",
    "        tag = ''\n",
    "        quote = infotable[i].find_all('span')[0].getText()\n",
    "        quotes.append(quote[1:-1])\n",
    "        author = infotable[i].find_all('small')[0].getText()\n",
    "        authors.append(author)\n",
    "        for i in infotable[i].find_all('a'):\n",
    "            tag += i.getText()+'|'\n",
    "        tags.append(tag[:-1])\n",
    "    \n",
    "    a = soup.find_all('li',class_=\"next\")\n",
    "    if len(a)==0:\n",
    "        last_page = True\n",
    "    else:\n",
    "        for li in soup.find_all('li',class_=\"next\"):\n",
    "            n = li.a.get('href')\n",
    "    url = 'http://quotes.toscrape.com' + n"
   ]
  },
  {
   "cell_type": "code",
   "execution_count": 4,
   "metadata": {},
   "outputs": [],
   "source": [
    "outputdf = pd.DataFrame({'Author':authors, 'Quote': quotes , 'Tags': tags})\n",
    "outputdf.to_csv('Quotes.csv', encoding = 'utf-8', index=False)"
   ]
  },
  {
   "cell_type": "code",
   "execution_count": null,
   "metadata": {},
   "outputs": [],
   "source": []
  }
 ],
 "metadata": {
  "kernelspec": {
   "display_name": "Python 3",
   "language": "python",
   "name": "python3"
  },
  "language_info": {
   "codemirror_mode": {
    "name": "ipython",
    "version": 3
   },
   "file_extension": ".py",
   "mimetype": "text/x-python",
   "name": "python",
   "nbconvert_exporter": "python",
   "pygments_lexer": "ipython3",
   "version": "3.5.6"
  }
 },
 "nbformat": 4,
 "nbformat_minor": 2
}
