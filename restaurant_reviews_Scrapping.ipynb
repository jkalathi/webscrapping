{
 "cells": [
  {
   "cell_type": "markdown",
   "metadata": {},
   "source": [
    "# Question 1"
   ]
  },
  {
   "cell_type": "markdown",
   "metadata": {},
   "source": [
    "In this homework your task is to write a program that obtains all the reviews for a specific restaurant from Yelp.com.  First, define a variable called yelp_restaurant_url and set it equal to:\n",
    "\n",
    "\"https://www.yelp.com/biz/j-wata-temaki-bar-san-diego-2?osq=restaurant\"\n",
    "This is the link to the Yelp restaurant review page for J Wata Temaki Bar in San Diego. \n",
    "\n",
    "Your objective is to obtain all the reviews for this restaurant.  Specifically, you will need to output the reviews to a csv file with the following format.  Each row is a unique review. The columns that you need are as follows:\n",
    "\n",
    "Column 1: restaurant name\n",
    "Column 2: reviewer’s name\n",
    "Column 3: review text\n"
   ]
  },
  {
   "cell_type": "code",
   "execution_count": 1,
   "metadata": {},
   "outputs": [],
   "source": [
    "import urllib.request\n",
    "import codecs"
   ]
  },
  {
   "cell_type": "markdown",
   "metadata": {},
   "source": [
    "https://www.yelp.com/biz/j-wata-temaki-bar-san-diego-2?start=1\n",
    "upto 160"
   ]
  },
  {
   "cell_type": "code",
   "execution_count": 2,
   "metadata": {},
   "outputs": [],
   "source": [
    "#creating the empty lists to store the 3 required features\n",
    "name = []\n",
    "reviewer = []\n",
    "text = []"
   ]
  },
  {
   "cell_type": "code",
   "execution_count": 3,
   "metadata": {},
   "outputs": [
    {
     "name": "stdout",
     "output_type": "stream",
     "text": [
      "https://www.yelp.com/biz/j-wata-temaki-bar-san-diego-2?start=20\n",
      "https://www.yelp.com/biz/j-wata-temaki-bar-san-diego-2?start=40\n",
      "https://www.yelp.com/biz/j-wata-temaki-bar-san-diego-2?start=60\n",
      "https://www.yelp.com/biz/j-wata-temaki-bar-san-diego-2?start=80\n",
      "https://www.yelp.com/biz/j-wata-temaki-bar-san-diego-2?start=100\n",
      "https://www.yelp.com/biz/j-wata-temaki-bar-san-diego-2?start=120\n",
      "https://www.yelp.com/biz/j-wata-temaki-bar-san-diego-2?start=140\n",
      "https://www.yelp.com/biz/j-wata-temaki-bar-san-diego-2?start=160\n"
     ]
    }
   ],
   "source": [
    "#loading the URL\n",
    "url = \"https://www.yelp.com/biz/j-wata-temaki-bar-san-diego-2\"\n",
    "html = urllib.request.urlopen(url).read().decode('utf-8')\n",
    "html1 = html\n",
    "\n",
    "#conditions to check if page is last\n",
    "last_page = False      \n",
    "while last_page == False:\n",
    "    \n",
    "    #capturing the resturant name\n",
    "    index = html1.find('<div class=\"feed_header\"')\n",
    "    html1 = html1[index:]\n",
    "\n",
    "    start = html1.find(\"<b>for\")+7\n",
    "    end = html1.find(\"</b>\")\n",
    "    rname = html1[start:end]\n",
    "    while html1.find('li class=\"user-name\"') != -1:\n",
    "        #adding the resturant name to every iteration\n",
    "        name.append(rname)\n",
    "        \n",
    "        #capturing the person who wrote the review and adding it to empty list\n",
    "        remain = html1[end:]\n",
    "        index = remain.find('li class=\"user-name\"')\n",
    "        remain = remain[index:]\n",
    "        start = remain.find('dropdown_user-name\">')+20\n",
    "        end = remain.find(\"</a>\")\n",
    "        pname = remain[start:end]\n",
    "        reviewer.append(pname)\n",
    "\n",
    "        #capturing the review/comments and adding it to empty list\n",
    "        remain = remain[end:]\n",
    "        index = remain.find('div class=\"review-wrapper\"')\n",
    "        remain = remain[index:]\n",
    "        start = remain.find('<p lang=\"en\">')+13\n",
    "        end = remain.find(\"</p>\")\n",
    "        review = remain[start:end]\n",
    "        review=review.replace(\"<br>\",'')\n",
    "        review=review.replace(\"&#39;\",\"'\")\n",
    "        text.append(review)\n",
    "\n",
    "        html1 = remain[end:]\n",
    "        #finding the index to identify the next page url\n",
    "        index = html1.find('<a class=\"u-decoration-none next pagination-links_anchor\"')\n",
    "\n",
    "     #condition to exit while loop if last page is reached   \n",
    "    if index == -1:\n",
    "        last_page = True\n",
    "\n",
    "    else:\n",
    "        #paginate, finding the next page url\n",
    "        html1 = html1[index:index+200]\n",
    "        start= html1.find('href=\"')+6\n",
    "        stop = html1.find('\">')\n",
    "        url = html1[start:stop]\n",
    "        print(url)\n",
    "        html1 = urllib.request.urlopen(url).read().decode('utf-8') \n",
    "\n"
   ]
  },
  {
   "cell_type": "code",
   "execution_count": null,
   "metadata": {},
   "outputs": [],
   "source": [
    "#4th entry of text has characters unable to be identified while writing to text file, hence identifying\n",
    "#and removing them\n",
    "#text[54]=text[54].replace(\"&#34;\",\"'\")\n",
    "#text[54]=text[54].replace(\"五\",'')"
   ]
  },
  {
   "cell_type": "code",
   "execution_count": 4,
   "metadata": {},
   "outputs": [
    {
     "ename": "UnicodeEncodeError",
     "evalue": "'charmap' codec can't encode character '\\u4e94' in position 637: character maps to <undefined>",
     "output_type": "error",
     "traceback": [
      "\u001b[1;31m---------------------------------------------------------------------------\u001b[0m",
      "\u001b[1;31mUnicodeEncodeError\u001b[0m                        Traceback (most recent call last)",
      "\u001b[1;32m<ipython-input-4-1dfa126d6d19>\u001b[0m in \u001b[0;36m<module>\u001b[1;34m()\u001b[0m\n\u001b[0;32m      5\u001b[0m \u001b[1;33m\u001b[0m\u001b[0m\n\u001b[0;32m      6\u001b[0m \u001b[1;32mfor\u001b[0m \u001b[0mx\u001b[0m \u001b[1;32min\u001b[0m \u001b[0mrange\u001b[0m\u001b[1;33m(\u001b[0m\u001b[1;36m0\u001b[0m\u001b[1;33m,\u001b[0m \u001b[0mlen\u001b[0m\u001b[1;33m(\u001b[0m\u001b[0mname\u001b[0m\u001b[1;33m)\u001b[0m\u001b[1;33m)\u001b[0m\u001b[1;33m:\u001b[0m\u001b[1;33m\u001b[0m\u001b[0m\n\u001b[1;32m----> 7\u001b[1;33m     \u001b[0mOutput_File\u001b[0m\u001b[1;33m.\u001b[0m\u001b[0mwrite\u001b[0m\u001b[1;33m(\u001b[0m\u001b[0mname\u001b[0m\u001b[1;33m[\u001b[0m\u001b[0mx\u001b[0m\u001b[1;33m]\u001b[0m \u001b[1;33m+\u001b[0m \u001b[1;34m'\\t'\u001b[0m \u001b[1;33m+\u001b[0m \u001b[0mreviewer\u001b[0m\u001b[1;33m[\u001b[0m\u001b[0mx\u001b[0m\u001b[1;33m]\u001b[0m \u001b[1;33m+\u001b[0m \u001b[1;34m'\\t'\u001b[0m \u001b[1;33m+\u001b[0m \u001b[0mtext\u001b[0m\u001b[1;33m[\u001b[0m\u001b[0mx\u001b[0m\u001b[1;33m]\u001b[0m \u001b[1;33m+\u001b[0m \u001b[1;34m'\\t'\u001b[0m \u001b[1;33m+\u001b[0m \u001b[1;34m'\\n'\u001b[0m\u001b[1;33m)\u001b[0m\u001b[1;33m\u001b[0m\u001b[0m\n\u001b[0m\u001b[0;32m      8\u001b[0m \u001b[1;33m\u001b[0m\u001b[0m\n\u001b[0;32m      9\u001b[0m \u001b[0mOutput_File\u001b[0m\u001b[1;33m.\u001b[0m\u001b[0mclose\u001b[0m\u001b[1;33m(\u001b[0m\u001b[1;33m)\u001b[0m\u001b[1;33m\u001b[0m\u001b[0m\n",
      "\u001b[1;32m~\\Anaconda3\\lib\\encodings\\cp1252.py\u001b[0m in \u001b[0;36mencode\u001b[1;34m(self, input, final)\u001b[0m\n\u001b[0;32m     17\u001b[0m \u001b[1;32mclass\u001b[0m \u001b[0mIncrementalEncoder\u001b[0m\u001b[1;33m(\u001b[0m\u001b[0mcodecs\u001b[0m\u001b[1;33m.\u001b[0m\u001b[0mIncrementalEncoder\u001b[0m\u001b[1;33m)\u001b[0m\u001b[1;33m:\u001b[0m\u001b[1;33m\u001b[0m\u001b[0m\n\u001b[0;32m     18\u001b[0m     \u001b[1;32mdef\u001b[0m \u001b[0mencode\u001b[0m\u001b[1;33m(\u001b[0m\u001b[0mself\u001b[0m\u001b[1;33m,\u001b[0m \u001b[0minput\u001b[0m\u001b[1;33m,\u001b[0m \u001b[0mfinal\u001b[0m\u001b[1;33m=\u001b[0m\u001b[1;32mFalse\u001b[0m\u001b[1;33m)\u001b[0m\u001b[1;33m:\u001b[0m\u001b[1;33m\u001b[0m\u001b[0m\n\u001b[1;32m---> 19\u001b[1;33m         \u001b[1;32mreturn\u001b[0m \u001b[0mcodecs\u001b[0m\u001b[1;33m.\u001b[0m\u001b[0mcharmap_encode\u001b[0m\u001b[1;33m(\u001b[0m\u001b[0minput\u001b[0m\u001b[1;33m,\u001b[0m\u001b[0mself\u001b[0m\u001b[1;33m.\u001b[0m\u001b[0merrors\u001b[0m\u001b[1;33m,\u001b[0m\u001b[0mencoding_table\u001b[0m\u001b[1;33m)\u001b[0m\u001b[1;33m[\u001b[0m\u001b[1;36m0\u001b[0m\u001b[1;33m]\u001b[0m\u001b[1;33m\u001b[0m\u001b[0m\n\u001b[0m\u001b[0;32m     20\u001b[0m \u001b[1;33m\u001b[0m\u001b[0m\n\u001b[0;32m     21\u001b[0m \u001b[1;32mclass\u001b[0m \u001b[0mIncrementalDecoder\u001b[0m\u001b[1;33m(\u001b[0m\u001b[0mcodecs\u001b[0m\u001b[1;33m.\u001b[0m\u001b[0mIncrementalDecoder\u001b[0m\u001b[1;33m)\u001b[0m\u001b[1;33m:\u001b[0m\u001b[1;33m\u001b[0m\u001b[0m\n",
      "\u001b[1;31mUnicodeEncodeError\u001b[0m: 'charmap' codec can't encode character '\\u4e94' in position 637: character maps to <undefined>"
     ]
    }
   ],
   "source": [
    "#writing the output to a text file\n",
    "Output_File = open(\"Reviews.txt\", \"w\")\n",
    "\n",
    "Output_File.write(\"Resturant_Name\\tReviewer_Name\\tComments\\n\")\n",
    "\n",
    "for x in range(0, len(name)):\n",
    "    Output_File.write(name[x] + '\\t' + reviewer[x] + '\\t' + text[x] + '\\t' + '\\n')\n",
    "\n",
    "Output_File.close()"
   ]
  },
  {
   "cell_type": "code",
   "execution_count": null,
   "metadata": {},
   "outputs": [],
   "source": [
    "# Converting to csv\n",
    "import csv\n",
    "\n",
    "text_file = r\"Reviews.txt\"\n",
    "csv_file = r\"Reviews.csv\"\n",
    "\n",
    "inpt = csv.reader(open(text_file, \"r\"), delimiter = '\\t')\n",
    "output = csv.writer(open(csv_file,'w', newline=''))\n",
    "\n",
    "output.writerows(inpt)"
   ]
  },
  {
   "cell_type": "code",
   "execution_count": null,
   "metadata": {},
   "outputs": [],
   "source": []
  }
 ],
 "metadata": {
  "kernelspec": {
   "display_name": "Python 3",
   "language": "python",
   "name": "python3"
  },
  "language_info": {
   "codemirror_mode": {
    "name": "ipython",
    "version": 3
   },
   "file_extension": ".py",
   "mimetype": "text/x-python",
   "name": "python",
   "nbconvert_exporter": "python",
   "pygments_lexer": "ipython3",
   "version": "3.5.6"
  }
 },
 "nbformat": 4,
 "nbformat_minor": 2
}
